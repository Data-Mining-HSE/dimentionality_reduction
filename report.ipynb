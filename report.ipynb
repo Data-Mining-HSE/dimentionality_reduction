{
 "cells": [
  {
   "cell_type": "markdown",
   "metadata": {},
   "source": [
    "# Dimensionality Reduction"
   ]
  },
  {
   "cell_type": "code",
   "execution_count": 1,
   "metadata": {},
   "outputs": [],
   "source": [
    "from src.preprocessing import load_data, get_statistics\n",
    "from pathlib import Path"
   ]
  },
  {
   "cell_type": "code",
   "execution_count": 2,
   "metadata": {},
   "outputs": [],
   "source": [
    "data_path = Path('data')\n",
    "file_path = data_path / '23MAG_HW_1_v1.xls'"
   ]
  },
  {
   "cell_type": "code",
   "execution_count": 3,
   "metadata": {},
   "outputs": [],
   "source": [
    "dataset = load_data(file_path)"
   ]
  },
  {
   "cell_type": "code",
   "execution_count": 4,
   "metadata": {},
   "outputs": [
    {
     "data": {
      "text/html": [
       "<div>\n",
       "<style scoped>\n",
       "    .dataframe tbody tr th:only-of-type {\n",
       "        vertical-align: middle;\n",
       "    }\n",
       "\n",
       "    .dataframe tbody tr th {\n",
       "        vertical-align: top;\n",
       "    }\n",
       "\n",
       "    .dataframe thead th {\n",
       "        text-align: right;\n",
       "    }\n",
       "</style>\n",
       "<table border=\"1\" class=\"dataframe\">\n",
       "  <thead>\n",
       "    <tr style=\"text-align: right;\">\n",
       "      <th></th>\n",
       "      <th>Statistic</th>\n",
       "      <th>Age</th>\n",
       "      <th>Number of dependents</th>\n",
       "      <th>Salary</th>\n",
       "      <th>Years of stay in the region</th>\n",
       "      <th>Car price</th>\n",
       "      <th>Amount of credit</th>\n",
       "    </tr>\n",
       "  </thead>\n",
       "  <tbody>\n",
       "    <tr>\n",
       "      <th>0</th>\n",
       "      <td>Mean</td>\n",
       "      <td>39.298507</td>\n",
       "      <td>2.086957</td>\n",
       "      <td>19861.764706</td>\n",
       "      <td>10.101449</td>\n",
       "      <td>20852.941176</td>\n",
       "      <td>198492.537313</td>\n",
       "    </tr>\n",
       "    <tr>\n",
       "      <th>1</th>\n",
       "      <td>Median</td>\n",
       "      <td>38.000000</td>\n",
       "      <td>2.000000</td>\n",
       "      <td>20250.000000</td>\n",
       "      <td>9.000000</td>\n",
       "      <td>20500.000000</td>\n",
       "      <td>200000.000000</td>\n",
       "    </tr>\n",
       "    <tr>\n",
       "      <th>2</th>\n",
       "      <td>Std</td>\n",
       "      <td>8.700427</td>\n",
       "      <td>0.996156</td>\n",
       "      <td>10169.342711</td>\n",
       "      <td>4.932321</td>\n",
       "      <td>10692.813469</td>\n",
       "      <td>99837.348500</td>\n",
       "    </tr>\n",
       "    <tr>\n",
       "      <th>3</th>\n",
       "      <td>Quantile (25%)</td>\n",
       "      <td>34.000000</td>\n",
       "      <td>1.000000</td>\n",
       "      <td>11125.000000</td>\n",
       "      <td>7.000000</td>\n",
       "      <td>12000.000000</td>\n",
       "      <td>118000.000000</td>\n",
       "    </tr>\n",
       "    <tr>\n",
       "      <th>4</th>\n",
       "      <td>Quantile (50%)</td>\n",
       "      <td>38.000000</td>\n",
       "      <td>2.000000</td>\n",
       "      <td>20250.000000</td>\n",
       "      <td>9.000000</td>\n",
       "      <td>20500.000000</td>\n",
       "      <td>200000.000000</td>\n",
       "    </tr>\n",
       "    <tr>\n",
       "      <th>5</th>\n",
       "      <td>Quantile (75%)</td>\n",
       "      <td>46.000000</td>\n",
       "      <td>3.000000</td>\n",
       "      <td>27125.000000</td>\n",
       "      <td>14.000000</td>\n",
       "      <td>28000.000000</td>\n",
       "      <td>265500.000000</td>\n",
       "    </tr>\n",
       "  </tbody>\n",
       "</table>\n",
       "</div>"
      ],
      "text/plain": [
       "        Statistic        Age  Number of dependents        Salary  \\\n",
       "0            Mean  39.298507              2.086957  19861.764706   \n",
       "1          Median  38.000000              2.000000  20250.000000   \n",
       "2             Std   8.700427              0.996156  10169.342711   \n",
       "3  Quantile (25%)  34.000000              1.000000  11125.000000   \n",
       "4  Quantile (50%)  38.000000              2.000000  20250.000000   \n",
       "5  Quantile (75%)  46.000000              3.000000  27125.000000   \n",
       "\n",
       "   Years of stay in the region     Car price  Amount of credit  \n",
       "0                    10.101449  20852.941176     198492.537313  \n",
       "1                     9.000000  20500.000000     200000.000000  \n",
       "2                     4.932321  10692.813469      99837.348500  \n",
       "3                     7.000000  12000.000000     118000.000000  \n",
       "4                     9.000000  20500.000000     200000.000000  \n",
       "5                    14.000000  28000.000000     265500.000000  "
      ]
     },
     "execution_count": 4,
     "metadata": {},
     "output_type": "execute_result"
    }
   ],
   "source": [
    "get_statistics(dataset)"
   ]
  },
  {
   "cell_type": "code",
   "execution_count": null,
   "metadata": {},
   "outputs": [],
   "source": []
  }
 ],
 "metadata": {
  "kernelspec": {
   "display_name": "venv",
   "language": "python",
   "name": "python3"
  },
  "language_info": {
   "codemirror_mode": {
    "name": "ipython",
    "version": 3
   },
   "file_extension": ".py",
   "mimetype": "text/x-python",
   "name": "python",
   "nbconvert_exporter": "python",
   "pygments_lexer": "ipython3",
   "version": "3.9.6"
  }
 },
 "nbformat": 4,
 "nbformat_minor": 2
}
